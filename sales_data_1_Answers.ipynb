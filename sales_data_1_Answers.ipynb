{
 "cells": [
  {
   "cell_type": "code",
   "execution_count": 6,
   "id": "a8623673",
   "metadata": {},
   "outputs": [
    {
     "name": "stdout",
     "output_type": "stream",
     "text": [
      "1. Overall Gross Margin: 1207.1999999999998\n",
      "2. Most Profitable Vendor: Vendor7\n",
      "3. Least Profitable Customer: Customer9\n",
      "4. Most Profitable Day of the Week: Monday\n",
      "5. Least Profitable Day of the Week: Thursday\n"
     ]
    }
   ],
   "source": [
    "import pandas as pd\n",
    "\n",
    "# Read the data from the provided CSV file\n",
    "df = pd.read_csv(\"sales_data_1.csv\")\n",
    "\n",
    "# Convert the \"Date\" column to a datetime object\n",
    "df[\"Date\"] = pd.to_datetime(df[\"Date\"], format=\"%d-%m-%Y\")\n",
    "\n",
    "# Calculate the gross margin for each transaction\n",
    "df[\"Gross Margin\"] = df[\"Selling price\"] - df[\"Buying price\"]\n",
    "\n",
    "# 1. Calculate the overall gross margin\n",
    "overall_gross_margin = df[\"Gross Margin\"].sum()\n",
    "\n",
    "# 2. Identify the most profitable vendor\n",
    "most_profitable_vendor = df.groupby(\"Firm bought from\")[\"Gross Margin\"].sum().idxmax()\n",
    "\n",
    "# 3. Identify the least profitable customer\n",
    "least_profitable_customer = df.groupby(\"Customer\")[\"Gross Margin\"].sum().idxmin()\n",
    "\n",
    "# 4. Calculate the most profitable day of the week\n",
    "df[\"Day of the Week\"] = df[\"Date\"].dt.day_name()\n",
    "most_profitable_day = df.groupby(\"Day of the Week\")[\"Gross Margin\"].sum().idxmax()\n",
    "\n",
    "# 5. Calculate the least profitable day of the week\n",
    "least_profitable_day = df.groupby(\"Day of the Week\")[\"Gross Margin\"].sum().idxmin()\n",
    "\n",
    "# Display the results\n",
    "print(\"1. Overall Gross Margin:\", overall_gross_margin)\n",
    "print(\"2. Most Profitable Vendor:\", most_profitable_vendor)\n",
    "print(\"3. Least Profitable Customer:\", least_profitable_customer)\n",
    "print(\"4. Most Profitable Day of the Week:\", most_profitable_day)\n",
    "print(\"5. Least Profitable Day of the Week:\", least_profitable_day)\n"
   ]
  },
  {
   "cell_type": "code",
   "execution_count": null,
   "id": "5171904a",
   "metadata": {},
   "outputs": [],
   "source": []
  }
 ],
 "metadata": {
  "kernelspec": {
   "display_name": "Python 3 (ipykernel)",
   "language": "python",
   "name": "python3"
  },
  "language_info": {
   "codemirror_mode": {
    "name": "ipython",
    "version": 3
   },
   "file_extension": ".py",
   "mimetype": "text/x-python",
   "name": "python",
   "nbconvert_exporter": "python",
   "pygments_lexer": "ipython3",
   "version": "3.10.9"
  }
 },
 "nbformat": 4,
 "nbformat_minor": 5
}
